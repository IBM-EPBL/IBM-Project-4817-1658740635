{
  "nbformat": 4,
  "nbformat_minor": 0,
  "metadata": {
    "colab": {
      "provenance": [],
      "authorship_tag": "ABX9TyOYMjDYawtE+UYTgr/fWYuM",
      "include_colab_link": true
    },
    "kernelspec": {
      "name": "python3",
      "display_name": "Python 3"
    },
    "language_info": {
      "name": "python"
    }
  },
  "cells": [
    {
      "cell_type": "markdown",
      "metadata": {
        "id": "view-in-github",
        "colab_type": "text"
      },
      "source": [
        "<a href=\"https://colab.research.google.com/github/IBM-EPBL/IBM-Project-4817-1658740635/blob/main/Assignment_3_Deepaasree_VK.ipynb\" target=\"_parent\"><img src=\"https://colab.research.google.com/assets/colab-badge.svg\" alt=\"Open In Colab\"/></a>"
      ]
    },
    {
      "cell_type": "markdown",
      "source": [
        "Answer the questions or complete the tasks outlined in bold below, use the specific method described if applicable.\n",
        "\n",
        "What is 7 to the power of 4?"
      ],
      "metadata": {
        "id": "ZOwqyo30klfg"
      }
    },
    {
      "cell_type": "code",
      "source": [
        "print(7**4)"
      ],
      "metadata": {
        "colab": {
          "base_uri": "https://localhost:8080/",
          "height": 0
        },
        "id": "Zez3J0kLktVx",
        "outputId": "c686d15c-15ef-4f2c-e3e2-1712ccef98ad"
      },
      "execution_count": 2,
      "outputs": [
        {
          "output_type": "stream",
          "name": "stdout",
          "text": [
            "2401\n"
          ]
        }
      ]
    },
    {
      "cell_type": "markdown",
      "source": [
        "Split this string into a list"
      ],
      "metadata": {
        "id": "D5a6p_MSkv2h"
      }
    },
    {
      "cell_type": "code",
      "source": [
        "s = \"Hi there Sam!\"\n",
        "print(s.split())"
      ],
      "metadata": {
        "colab": {
          "base_uri": "https://localhost:8080/",
          "height": 0
        },
        "id": "mxU_UmuXkwEJ",
        "outputId": "a884e1dc-cf27-4fb8-e0e4-510d3335a23a"
      },
      "execution_count": 1,
      "outputs": [
        {
          "output_type": "stream",
          "name": "stdout",
          "text": [
            "['Hi', 'there', 'Sam!']\n"
          ]
        }
      ]
    },
    {
      "cell_type": "markdown",
      "source": [
        "Given the variables Use .format() to print the following string:\n",
        "\n",
        "The diameter of Earth is 12742 kilometers."
      ],
      "metadata": {
        "id": "5fsbpFI0kwPS"
      }
    },
    {
      "cell_type": "code",
      "source": [
        "planet = \"Earth\"\n",
        "diameter = 12742\n",
        "print(\"The diameter of {planet} is {diameter} kilometers.\".format(planet=planet,diameter=diameter))"
      ],
      "metadata": {
        "colab": {
          "base_uri": "https://localhost:8080/",
          "height": 0
        },
        "id": "fcoF1Zg5kwbt",
        "outputId": "de05fa8a-2299-41ac-ba98-4f321e8b39a7"
      },
      "execution_count": 3,
      "outputs": [
        {
          "output_type": "stream",
          "name": "stdout",
          "text": [
            "The diameter of Earth is 12742 kilometers.\n"
          ]
        }
      ]
    },
    {
      "cell_type": "markdown",
      "source": [
        "Given this nested list, use indexing to grab the word \"hello\""
      ],
      "metadata": {
        "id": "AS5fBwIEkwm4"
      }
    },
    {
      "cell_type": "code",
      "source": [
        "lst = [1,2,[3,4],[5,[100,200,['hello']],23,11],1,7]\n",
        "print(lst[3][1][2])"
      ],
      "metadata": {
        "colab": {
          "base_uri": "https://localhost:8080/",
          "height": 0
        },
        "id": "IZW6QDvskwy_",
        "outputId": "efb6fb4f-8874-46e9-eff8-8f8e9272767c"
      },
      "execution_count": 4,
      "outputs": [
        {
          "output_type": "stream",
          "name": "stdout",
          "text": [
            "['hello']\n"
          ]
        }
      ]
    },
    {
      "cell_type": "markdown",
      "source": [
        "Given this nest dictionary grab the word \"hello\". Be prepared, this will be annoying/tricky "
      ],
      "metadata": {
        "id": "T70f9_BRlTgk"
      }
    },
    {
      "cell_type": "code",
      "source": [
        "d = {'k1':[1,2,3,{'tricky':['oh','man','inception',{'target':[1,2,3,'hello']}]}]}\n",
        "print(d[\"k1\"][3][\"tricky\"][3]['target'][3])"
      ],
      "metadata": {
        "colab": {
          "base_uri": "https://localhost:8080/",
          "height": 0
        },
        "id": "nTc_FqavlVpO",
        "outputId": "f331967a-c822-4a00-f4af-b5cc42fc5b40"
      },
      "execution_count": 5,
      "outputs": [
        {
          "output_type": "stream",
          "name": "stdout",
          "text": [
            "hello\n"
          ]
        }
      ]
    },
    {
      "cell_type": "markdown",
      "source": [
        "What is the main difference between a tuple and a list?\n",
        "\n",
        "The list is mutable, whereas the tuple in immutable\n",
        "\n",
        "Create a function that grabs the email website domain from a string in the form: user@domain.com\n",
        "\n",
        "So for example, passing \"user@domain.com\" would return: domain.com"
      ],
      "metadata": {
        "id": "1HJKbNu7llSR"
      }
    },
    {
      "cell_type": "code",
      "source": [
        "def domain(email):\n",
        " return email.split('@')[-1]\n",
        "domain(\"user@domain.com\")"
      ],
      "metadata": {
        "colab": {
          "base_uri": "https://localhost:8080/",
          "height": 36
        },
        "id": "Iyh4eSjOllew",
        "outputId": "2fb46fd0-d840-4207-f3a2-530e070c6bf5"
      },
      "execution_count": 6,
      "outputs": [
        {
          "output_type": "execute_result",
          "data": {
            "text/plain": [
              "'domain.com'"
            ],
            "application/vnd.google.colaboratory.intrinsic+json": {
              "type": "string"
            }
          },
          "metadata": {},
          "execution_count": 6
        }
      ]
    },
    {
      "cell_type": "markdown",
      "source": [
        "Create a basic function that returns True if the word 'dog' is contained in the input string. Don't worry about edge cases like a punctuation being attached to the word dog, but do account for capitalization."
      ],
      "metadata": {
        "id": "Tg036arjllqt"
      }
    },
    {
      "cell_type": "code",
      "source": [
        "def check(word):\n",
        " for i in word.split():\n",
        "  if i == \"cat\":\n",
        "    return True\n",
        " return False\n",
        "check(\"I love my cat\")"
      ],
      "metadata": {
        "colab": {
          "base_uri": "https://localhost:8080/",
          "height": 0
        },
        "id": "GhFAeozNll2H",
        "outputId": "0e3ac683-7db3-4a9e-96b6-8d4b484cdb13"
      },
      "execution_count": 7,
      "outputs": [
        {
          "output_type": "execute_result",
          "data": {
            "text/plain": [
              "True"
            ]
          },
          "metadata": {},
          "execution_count": 7
        }
      ]
    },
    {
      "cell_type": "markdown",
      "source": [
        "Create a function that counts the number of times the word \"dog\" occurs in a string. Again ignore edge cases."
      ],
      "metadata": {
        "id": "HlrCaCkPlmBG"
      }
    },
    {
      "cell_type": "code",
      "source": [
        "def wordCount(word):\n",
        " count = 0\n",
        " for i in word.split():\n",
        "    if i == 'dog':\n",
        "      count += 1\n",
        " print(\"Dog repeated \"+str(count)+\" times\")"
      ],
      "metadata": {
        "id": "vPS1lSdwlmRV"
      },
      "execution_count": 9,
      "outputs": []
    },
    {
      "cell_type": "code",
      "source": [
        "wordCount(\"dog dog dog cat lion Dog DOG\")"
      ],
      "metadata": {
        "colab": {
          "base_uri": "https://localhost:8080/",
          "height": 0
        },
        "id": "siVo93ugl8Vc",
        "outputId": "31825992-d37e-4d81-97ea-f157e8373b08"
      },
      "execution_count": 10,
      "outputs": [
        {
          "output_type": "stream",
          "name": "stdout",
          "text": [
            "Dog repeated 3 times\n"
          ]
        }
      ]
    },
    {
      "cell_type": "markdown",
      "source": [
        "Problem:\n",
        "\n",
        "You are driving a little too fast, and a police officer stops you. Write a function to return one of 3 possible results: \"No ticket\", \"Small ticket\", or \"Big Ticket\". If your speed is 60 or less, the result is \"No Ticket\". If speed is between 61 and 80 inclusive, the result is \"Small Ticket\". If speed is 81 or more, the result is \"Big Ticket\". Unless it is your birthday (encoded as a boolean value in the parameters of the function) -- on your birthday, your speed can be 5 higher in all cases."
      ],
      "metadata": {
        "id": "_4uypH-4mAt8"
      }
    },
    {
      "cell_type": "code",
      "source": [
        "def caught_speeding(speed, is_birthday):\n",
        "\n",
        " if is_birthday:\n",
        "  speeding = speed - 5\n",
        " else:\n",
        "  speeding = speed\n",
        "\n",
        " if speeding > 80:\n",
        "  return 'Big Ticket'\n",
        " elif speeding > 60:\n",
        "  return 'Small Ticket'\n",
        " else:\n",
        "  return 'No Ticket'\n",
        "\n",
        "caught_speeding(87,False)"
      ],
      "metadata": {
        "colab": {
          "base_uri": "https://localhost:8080/",
          "height": 36
        },
        "id": "79BgHX1UmBA3",
        "outputId": "5eb9ba53-de9d-4058-f163-6a59d8d42d60"
      },
      "execution_count": 11,
      "outputs": [
        {
          "output_type": "execute_result",
          "data": {
            "text/plain": [
              "'Big Ticket'"
            ],
            "application/vnd.google.colaboratory.intrinsic+json": {
              "type": "string"
            }
          },
          "metadata": {},
          "execution_count": 11
        }
      ]
    },
    {
      "cell_type": "code",
      "source": [
        "caught_speeding(65,False)"
      ],
      "metadata": {
        "colab": {
          "base_uri": "https://localhost:8080/",
          "height": 36
        },
        "id": "0RsCcUe1mHCO",
        "outputId": "15b6f7f4-7585-4949-fe9d-14221776f92f"
      },
      "execution_count": 12,
      "outputs": [
        {
          "output_type": "execute_result",
          "data": {
            "text/plain": [
              "'Small Ticket'"
            ],
            "application/vnd.google.colaboratory.intrinsic+json": {
              "type": "string"
            }
          },
          "metadata": {},
          "execution_count": 12
        }
      ]
    },
    {
      "cell_type": "markdown",
      "source": [
        "Create an employee list with basic salary values(at least 5 values for 5 employees) and using a for loop retreive each employee salary and calculate total salary expenditure."
      ],
      "metadata": {
        "id": "Hoo6xg7SmBSJ"
      }
    },
    {
      "cell_type": "code",
      "source": [
        "e = [[\"emp1\",[1325,4975,8660,6037,8308]],[\"emp2\",[5678,5847,3375,3415,6640]],[\"emp3\",[1806,5144,8340,1253,6667]],[\"emp4\",[8381,7678,8599,3629,9345]],[\"emp5\",[7066,1307,3023,6295,2046]]]\n"
      ],
      "metadata": {
        "id": "xn5VLDqYlL3_"
      },
      "execution_count": 13,
      "outputs": []
    },
    {
      "cell_type": "code",
      "source": [
        "total = 0\n",
        "for i in range(len(e)):\n",
        " for j in e[i][1]:\n",
        "  total += j\n",
        " print(str(e[i][0])+\" earns \"+str(total))"
      ],
      "metadata": {
        "colab": {
          "base_uri": "https://localhost:8080/",
          "height": 0
        },
        "id": "FMeBVqxHmBtx",
        "outputId": "981903c3-a206-4d6d-fe05-f28ff44499e5"
      },
      "execution_count": 14,
      "outputs": [
        {
          "output_type": "stream",
          "name": "stdout",
          "text": [
            "emp1 earns 29305\n",
            "emp2 earns 54260\n",
            "emp3 earns 77470\n",
            "emp4 earns 115102\n",
            "emp5 earns 134839\n"
          ]
        }
      ]
    },
    {
      "cell_type": "code",
      "source": [
        "print(e)"
      ],
      "metadata": {
        "colab": {
          "base_uri": "https://localhost:8080/",
          "height": 0
        },
        "id": "kCEiogCnmexa",
        "outputId": "51707c64-8d75-4081-e914-630dcb894ace"
      },
      "execution_count": 15,
      "outputs": [
        {
          "output_type": "stream",
          "name": "stdout",
          "text": [
            "[['emp1', [1325, 4975, 8660, 6037, 8308]], ['emp2', [5678, 5847, 3375, 3415, 6640]], ['emp3', [1806, 5144, 8340, 1253, 6667]], ['emp4', [8381, 7678, 8599, 3629, 9345]], ['emp5', [7066, 1307, 3023, 6295, 2046]]]\n"
          ]
        }
      ]
    },
    {
      "cell_type": "markdown",
      "source": [
        "Create two dictionaries in Python: First one to contain fields as Empid, Empname, Basicpay Second dictionary to contain fields as DeptName, DeptId. Combine both dictionaries"
      ],
      "metadata": {
        "id": "Rr63hVOzmgQ_"
      }
    },
    {
      "cell_type": "code",
      "source": [
        "dic1 = {\"Empid\": 123, \"Empname\": \"BHARATHI\", \"Basicpay\": 8500}\n",
        "dic2 = {\"DeptName\": \"IT\", \"Deptid\": 1562}\n",
        "dic3 = {**dic1, **dic2}\n",
        "print(dic3)"
      ],
      "metadata": {
        "colab": {
          "base_uri": "https://localhost:8080/",
          "height": 0
        },
        "id": "TZTWawoUmgc1",
        "outputId": "99d240bc-80a6-40ce-f68f-3726324ea856"
      },
      "execution_count": 16,
      "outputs": [
        {
          "output_type": "stream",
          "name": "stdout",
          "text": [
            "{'Empid': 123, 'Empname': 'BHARATHI', 'Basicpay': 8500, 'DeptName': 'IT', 'Deptid': 1562}\n"
          ]
        }
      ]
    }
  ]
}